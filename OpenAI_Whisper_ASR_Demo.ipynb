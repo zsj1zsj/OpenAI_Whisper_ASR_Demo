{
  "cells": [
    {
      "cell_type": "markdown",
      "metadata": {
        "id": "view-in-github",
        "colab_type": "text"
      },
      "source": [
        "<a href=\"https://colab.research.google.com/github/zsj1zsj/OpenAI_Whisper_ASR_Demo/blob/main/OpenAI_Whisper_ASR_Demo.ipynb\" target=\"_parent\"><img src=\"https://colab.research.google.com/assets/colab-badge.svg\" alt=\"Open In Colab\"/></a>"
      ]
    },
    {
      "cell_type": "markdown",
      "source": [
        "# Web App Demonstrating OpenAI's Whisper Speech Recognition Model\n",
        "\n",
        "This is a Colab notebook that allows you to record or upload audio files to [OpenAI's free Whisper speech recognition model](https://openai.com/blog/whisper/). This was based on [an original notebook by @amrrs](https://github.com/amrrs/openai-whisper-webapp), with added documentation and test files by [Pete Warden](https://twitter.com/petewarden).\n",
        "\n",
        "To use it, choose `Runtime->Run All` from the Colab menu. If you're viewing this notebook on GitHub, follow [this link](https://colab.research.google.com/github/petewarden/openai-whisper-webapp/blob/main/OpenAI_Whisper_ASR_Demo.ipynb) to open it in Colab first. After about a minute or so, you should see a button at the bottom of the page with a `Record from microphone` link. Click this, you'll be asked to give permission to access your mic, and then speak for up to 30 seconds. Once you're done, press `Stop recording`, and a transcript of the first 30 seconds of your speech should soon appear in the box to the right of the recording button. To transcribe more speech, click `Clear' in the left box and start over.\n",
        "\n",
        "You can also upload your own audio samples using the folder icon on the left of this page. That gives you access to a file system you can upload to by dragging files into it. You can see examples of how to run the transcription in a couple of the cells below."
      ],
      "metadata": {
        "id": "Lbja1jB3vDOT"
      }
    },
    {
      "cell_type": "markdown",
      "source": [
        "## Install the Whisper Code"
      ],
      "metadata": {
        "id": "kosakhNmxb7A"
      }
    },
    {
      "cell_type": "code",
      "execution_count": 1,
      "metadata": {
        "id": "ZsJUxc0aRsAf",
        "outputId": "9a43be2b-ec1c-4a78-b7fc-3adfaed11ced",
        "colab": {
          "base_uri": "https://localhost:8080/"
        }
      },
      "outputs": [
        {
          "output_type": "stream",
          "name": "stdout",
          "text": [
            "\u001b[K     |████████████████████████████████| 5.3 MB 24.2 MB/s \n",
            "\u001b[K     |████████████████████████████████| 163 kB 48.7 MB/s \n",
            "\u001b[K     |████████████████████████████████| 7.6 MB 57.7 MB/s \n",
            "\u001b[?25h  Building wheel for whisper (setup.py) ... \u001b[?25l\u001b[?25hdone\n"
          ]
        }
      ],
      "source": [
        "! pip install git+https://github.com/openai/whisper.git -q"
      ]
    },
    {
      "cell_type": "markdown",
      "source": [
        "## Load the ML Model"
      ],
      "metadata": {
        "id": "AtAvuKSJxhNw"
      }
    },
    {
      "cell_type": "code",
      "source": [
        "import whisper\n",
        "\n",
        "model = whisper.load_model(\"large\")\n"
      ],
      "metadata": {
        "id": "Kr5faKybKi4p",
        "outputId": "b367c06d-d3a6-48a8-d515-348f7910f401",
        "colab": {
          "base_uri": "https://localhost:8080/"
        }
      },
      "execution_count": 2,
      "outputs": [
        {
          "output_type": "stream",
          "name": "stderr",
          "text": [
            "100%|█████████████████████████████████████| 2.87G/2.87G [00:53<00:00, 57.3MiB/s]\n"
          ]
        }
      ]
    },
    {
      "cell_type": "markdown",
      "source": [
        "## Check we have a GPU\n",
        "\n",
        "You should see the output `device(type='cuda', index=0)` below. If you don't, you may be on a CPU-only Colab instance which will run more slowly. Go to `Runtime->Change Runtime Type` to fix this."
      ],
      "metadata": {
        "id": "e200RNNlxn5j"
      }
    },
    {
      "cell_type": "code",
      "source": [
        "model.device"
      ],
      "metadata": {
        "id": "u_6_s2iHboR4",
        "outputId": "66671b00-9778-415d-d134-6ef6928a6437",
        "colab": {
          "base_uri": "https://localhost:8080/"
        }
      },
      "execution_count": 3,
      "outputs": [
        {
          "output_type": "execute_result",
          "data": {
            "text/plain": [
              "device(type='cuda', index=0)"
            ]
          },
          "metadata": {},
          "execution_count": 3
        }
      ]
    },
    {
      "cell_type": "code",
      "source": [
        "!pip install ipython-autotime\n",
        "%load_ext autotime"
      ],
      "metadata": {
        "id": "Zivot1D_WuQy",
        "outputId": "d07c87c8-7ace-4163-fb9a-8fcb0601fcca",
        "colab": {
          "base_uri": "https://localhost:8080/"
        }
      },
      "execution_count": 4,
      "outputs": [
        {
          "output_type": "stream",
          "name": "stdout",
          "text": [
            "Looking in indexes: https://pypi.org/simple, https://us-python.pkg.dev/colab-wheels/public/simple/\n",
            "Collecting ipython-autotime\n",
            "  Downloading ipython_autotime-0.3.1-py2.py3-none-any.whl (6.8 kB)\n",
            "Requirement already satisfied: ipython in /usr/local/lib/python3.7/dist-packages (from ipython-autotime) (7.9.0)\n",
            "Requirement already satisfied: pickleshare in /usr/local/lib/python3.7/dist-packages (from ipython->ipython-autotime) (0.7.5)\n",
            "Requirement already satisfied: backcall in /usr/local/lib/python3.7/dist-packages (from ipython->ipython-autotime) (0.2.0)\n",
            "Requirement already satisfied: traitlets>=4.2 in /usr/local/lib/python3.7/dist-packages (from ipython->ipython-autotime) (5.1.1)\n",
            "Requirement already satisfied: decorator in /usr/local/lib/python3.7/dist-packages (from ipython->ipython-autotime) (4.4.2)\n",
            "Collecting jedi>=0.10\n",
            "  Downloading jedi-0.18.1-py2.py3-none-any.whl (1.6 MB)\n",
            "\u001b[K     |████████████████████████████████| 1.6 MB 30.0 MB/s \n",
            "\u001b[?25hRequirement already satisfied: pygments in /usr/local/lib/python3.7/dist-packages (from ipython->ipython-autotime) (2.6.1)\n",
            "Requirement already satisfied: setuptools>=18.5 in /usr/local/lib/python3.7/dist-packages (from ipython->ipython-autotime) (57.4.0)\n",
            "Requirement already satisfied: prompt-toolkit<2.1.0,>=2.0.0 in /usr/local/lib/python3.7/dist-packages (from ipython->ipython-autotime) (2.0.10)\n",
            "Requirement already satisfied: pexpect in /usr/local/lib/python3.7/dist-packages (from ipython->ipython-autotime) (4.8.0)\n",
            "Requirement already satisfied: parso<0.9.0,>=0.8.0 in /usr/local/lib/python3.7/dist-packages (from jedi>=0.10->ipython->ipython-autotime) (0.8.3)\n",
            "Requirement already satisfied: wcwidth in /usr/local/lib/python3.7/dist-packages (from prompt-toolkit<2.1.0,>=2.0.0->ipython->ipython-autotime) (0.2.5)\n",
            "Requirement already satisfied: six>=1.9.0 in /usr/local/lib/python3.7/dist-packages (from prompt-toolkit<2.1.0,>=2.0.0->ipython->ipython-autotime) (1.15.0)\n",
            "Requirement already satisfied: ptyprocess>=0.5 in /usr/local/lib/python3.7/dist-packages (from pexpect->ipython->ipython-autotime) (0.7.0)\n",
            "Installing collected packages: jedi, ipython-autotime\n",
            "Successfully installed ipython-autotime-0.3.1 jedi-0.18.1\n",
            "time: 560 µs (started: 2022-10-29 09:59:47 +00:00)\n"
          ]
        }
      ]
    },
    {
      "cell_type": "code",
      "source": [
        "!mkdir ming\n",
        "!mkdir srt\n",
        "\n",
        "# from google.colab import drive\n",
        "# drive.mount('/content/drive')\n",
        "\n",
        "import os\n",
        "from datetime import datetime\n",
        "import glob\n",
        "\n",
        "\n",
        "\n",
        "def sortfilebysize(dir_name):\n",
        "  list_of_files = filter( os.path.isfile,\n",
        "                        glob.glob(dir_name + '*') )\n",
        "  list_of_files = sorted( list_of_files,\n",
        "                        key =  lambda x: os.stat(x).st_size)\n",
        "  return list_of_files\n",
        "\n",
        "sortfilebysize('/content/ming/')"
      ],
      "metadata": {
        "id": "sCvObwGUqAFM",
        "outputId": "f9002fe0-11df-4455-8f62-30d6046d0bf4",
        "colab": {
          "base_uri": "https://localhost:8080/"
        }
      },
      "execution_count": 6,
      "outputs": [
        {
          "output_type": "stream",
          "name": "stdout",
          "text": [
            "mkdir: cannot create directory ‘ming’: File exists\n",
            "mkdir: cannot create directory ‘srt’: File exists\n"
          ]
        },
        {
          "output_type": "execute_result",
          "data": {
            "text/plain": [
              "['/content/ming/36-【迷離公路】ep159 馬來西亞 雲頂靈異傳聞 第二節 (廣東話).mp3',\n",
              " '/content/ming/40-【迷離公路】ep157 韓國三豐百貨靈異傳聞 第一節 (廣東話).mp3',\n",
              " '/content/ming/39-【迷離公路】ep158 解構都市傳說 男朋友之死 第二節 (廣東話).mp3',\n",
              " '/content/ming/35-【迷離公路】ep159 馬來西亞 雲頂靈異傳聞 第一節 (廣東話).mp3',\n",
              " '/content/ming/38-【迷離公路】ep158 解構都市傳說 男朋友之死 第一節 (廣東話).mp3',\n",
              " \"/content/ming/32-【迷離公路】ep160 Silent Hill 2 與 電影 Jacob's Ladder 第一節 (廣東話).mp3\",\n",
              " \"/content/ming/33-【迷離公路】ep160 Silent Hill 2 與 電影 Jacob's Ladder 第二節 (廣東話).mp3\",\n",
              " '/content/ming/31-【迷離公路】港澳台靈異傳聞合集 (廣東話).mp3',\n",
              " '/content/ming/37-【迷離公路】日本靈異傳聞傳說 重製版 (廣東話).mp3',\n",
              " '/content/ming/34-【迷離公路】佛迪五夜驚魂系列合集 (廣東話).mp3']"
            ]
          },
          "metadata": {},
          "execution_count": 6
        },
        {
          "output_type": "stream",
          "name": "stdout",
          "text": [
            "time: 521 ms (started: 2022-10-29 10:00:16 +00:00)\n"
          ]
        }
      ]
    },
    {
      "cell_type": "code",
      "source": [
        "# !pip install tqdm\n",
        "import tqdm\n",
        "import glob\n",
        "from datetime import datetime, timezone, timedelta\n",
        "\n",
        "tz = timezone(timedelta(hours=+8))\n",
        "now = datetime.now(tz)\n",
        "nowstr = now.strftime(\"%H:%M\")\n",
        "\n",
        "# files = sorted(glob.glob('/content/ming/*'))\n",
        "files = sortfilebysize('/content/ming/')\n",
        "\n",
        "pbar = tqdm.tqdm(files)\n",
        "for file in pbar:\n",
        "    now = datetime.now(tz)\n",
        "    nowstr = now.strftime(\"%H:%M\")\n",
        "    pbar.set_description(nowstr+' '+file[14:-8])\n",
        "\n",
        "    test_txt = model.transcribe(file)\n",
        "\n",
        "    srtPath = '/content/srt/'+ file[14:] + '.txt'\n",
        "    with open(srtPath, mode = 'w', encoding = 'utf-8') as f: \n",
        "      f.write(test_txt['text'])"
      ],
      "metadata": {
        "colab": {
          "base_uri": "https://localhost:8080/"
        },
        "id": "DhUSBQnfDzAL",
        "outputId": "a7b7ab94-81cf-4eaa-8cdd-d94114708abd"
      },
      "execution_count": 7,
      "outputs": [
        {
          "output_type": "stream",
          "name": "stderr",
          "text": [
            "19:39 34-【迷離公路】佛迪五夜驚魂系列合集 (: 100%|██████████| 10/10 [2:00:08<00:00, 720.85s/it] "
          ]
        },
        {
          "output_type": "stream",
          "name": "stdout",
          "text": [
            "time: 2h 8s (started: 2022-10-29 10:00:22 +00:00)\n"
          ]
        },
        {
          "output_type": "stream",
          "name": "stderr",
          "text": [
            "\n"
          ]
        }
      ]
    },
    {
      "cell_type": "code",
      "source": [
        "!zip -r /content/file.zip /content/srt/"
      ],
      "metadata": {
        "id": "cuFfFU0xYAMD",
        "outputId": "f9ab7753-1eba-4d8a-aa27-0de0aa4c5e71",
        "colab": {
          "base_uri": "https://localhost:8080/"
        }
      },
      "execution_count": 8,
      "outputs": [
        {
          "output_type": "stream",
          "name": "stdout",
          "text": [
            "  adding: content/srt/ (stored 0%)\n",
            "  adding: content/srt/32-【迷離公路】ep160 Silent Hill 2 與 電影 Jacob's Ladder 第一節 (廣東話).mp3.txt (deflated 97%)\n",
            "  adding: content/srt/36-【迷離公路】ep159 馬來西亞 雲頂靈異傳聞 第二節 (廣東話).mp3.txt (deflated 54%)\n",
            "  adding: content/srt/31-【迷離公路】港澳台靈異傳聞合集 (廣東話).mp3.txt (deflated 59%)\n",
            "  adding: content/srt/37-【迷離公路】日本靈異傳聞傳說 重製版 (廣東話).mp3.txt (deflated 63%)\n",
            "  adding: content/srt/35-【迷離公路】ep159 馬來西亞 雲頂靈異傳聞 第一節 (廣東話).mp3.txt (deflated 56%)\n",
            "  adding: content/srt/34-【迷離公路】佛迪五夜驚魂系列合集 (廣東話).mp3.txt (deflated 59%)\n",
            "  adding: content/srt/33-【迷離公路】ep160 Silent Hill 2 與 電影 Jacob's Ladder 第二節 (廣東話).mp3.txt (deflated 56%)\n",
            "  adding: content/srt/40-【迷離公路】ep157 韓國三豐百貨靈異傳聞 第一節 (廣東話).mp3.txt (deflated 51%)\n",
            "  adding: content/srt/38-【迷離公路】ep158 解構都市傳說 男朋友之死 第一節 (廣東話).mp3.txt (deflated 53%)\n",
            "  adding: content/srt/39-【迷離公路】ep158 解構都市傳說 男朋友之死 第二節 (廣東話).mp3.txt (deflated 57%)\n",
            "time: 364 ms (started: 2022-10-29 12:00:30 +00:00)\n"
          ]
        }
      ]
    },
    {
      "cell_type": "code",
      "source": [
        "from google.colab import files\n",
        "files.download(\"/content/file.zip\")"
      ],
      "metadata": {
        "id": "F6bEphwbYbJZ",
        "outputId": "dd74eb63-0913-4524-e327-9244e1064305",
        "colab": {
          "base_uri": "https://localhost:8080/",
          "height": 35
        }
      },
      "execution_count": 9,
      "outputs": [
        {
          "output_type": "display_data",
          "data": {
            "text/plain": [
              "<IPython.core.display.Javascript object>"
            ],
            "application/javascript": [
              "\n",
              "    async function download(id, filename, size) {\n",
              "      if (!google.colab.kernel.accessAllowed) {\n",
              "        return;\n",
              "      }\n",
              "      const div = document.createElement('div');\n",
              "      const label = document.createElement('label');\n",
              "      label.textContent = `Downloading \"${filename}\": `;\n",
              "      div.appendChild(label);\n",
              "      const progress = document.createElement('progress');\n",
              "      progress.max = size;\n",
              "      div.appendChild(progress);\n",
              "      document.body.appendChild(div);\n",
              "\n",
              "      const buffers = [];\n",
              "      let downloaded = 0;\n",
              "\n",
              "      const channel = await google.colab.kernel.comms.open(id);\n",
              "      // Send a message to notify the kernel that we're ready.\n",
              "      channel.send({})\n",
              "\n",
              "      for await (const message of channel.messages) {\n",
              "        // Send a message to notify the kernel that we're ready.\n",
              "        channel.send({})\n",
              "        if (message.buffers) {\n",
              "          for (const buffer of message.buffers) {\n",
              "            buffers.push(buffer);\n",
              "            downloaded += buffer.byteLength;\n",
              "            progress.value = downloaded;\n",
              "          }\n",
              "        }\n",
              "      }\n",
              "      const blob = new Blob(buffers, {type: 'application/binary'});\n",
              "      const a = document.createElement('a');\n",
              "      a.href = window.URL.createObjectURL(blob);\n",
              "      a.download = filename;\n",
              "      div.appendChild(a);\n",
              "      a.click();\n",
              "      div.remove();\n",
              "    }\n",
              "  "
            ]
          },
          "metadata": {}
        },
        {
          "output_type": "display_data",
          "data": {
            "text/plain": [
              "<IPython.core.display.Javascript object>"
            ],
            "application/javascript": [
              "download(\"download_04c07afa-48a9-4a59-9501-200617a178f8\", \"file.zip\", 139264)"
            ]
          },
          "metadata": {}
        },
        {
          "output_type": "stream",
          "name": "stdout",
          "text": [
            "time: 7.78 ms (started: 2022-10-29 12:00:31 +00:00)\n"
          ]
        }
      ]
    },
    {
      "cell_type": "code",
      "source": [
        "# import glob\n",
        "\n",
        "# files = glob.glob('/content/ming/*')\n",
        "# print(files)\n",
        "# for f in files:\n",
        "#     os.remove(f)\n",
        "\n",
        "# files = glob.glob('/content/srt/*')\n",
        "# for f in files:\n",
        "#     os.remove(f)\n",
        "\n",
        "# os.remove('/content/file.zip')"
      ],
      "metadata": {
        "id": "jUQUz75eZ4Ik",
        "outputId": "1ce86fa2-b07a-4421-c764-d3998a21af9a",
        "colab": {
          "base_uri": "https://localhost:8080/"
        }
      },
      "execution_count": 13,
      "outputs": [
        {
          "output_type": "stream",
          "name": "stdout",
          "text": [
            "['/content/ming/40-【迷離公路】ep157 韓國三豐百貨靈異傳聞 第一節 (廣東話).mp3', '/content/ming/39-【迷離公路】ep158 解構都市傳說 男朋友之死 第二節 (廣東話).mp3', '/content/ming/36-【迷離公路】ep159 馬來西亞 雲頂靈異傳聞 第二節 (廣東話).mp3', \"/content/ming/33-【迷離公路】ep160 Silent Hill 2 與 電影 Jacob's Ladder 第二節 (廣東話).mp3\", \"/content/ming/32-【迷離公路】ep160 Silent Hill 2 與 電影 Jacob's Ladder 第一節 (廣東話).mp3\", '/content/ming/37-【迷離公路】日本靈異傳聞傳說 重製版 (廣東話).mp3', '/content/ming/34-【迷離公路】佛迪五夜驚魂系列合集 (廣東話).mp3', '/content/ming/38-【迷離公路】ep158 解構都市傳說 男朋友之死 第一節 (廣東話).mp3', '/content/ming/31-【迷離公路】港澳台靈異傳聞合集 (廣東話).mp3', '/content/ming/35-【迷離公路】ep159 馬來西亞 雲頂靈異傳聞 第一節 (廣東話).mp3']\n",
            "time: 47.5 ms (started: 2022-10-29 12:11:24 +00:00)\n"
          ]
        }
      ]
    },
    {
      "cell_type": "code",
      "source": [
        "# !cp ./sample_data/anscombe.json ./drive/MyDrive/temp/"
      ],
      "metadata": {
        "id": "EwLX8O7MGOfO",
        "outputId": "6f253046-310c-48c8-e0b6-f6e68cba5554",
        "colab": {
          "base_uri": "https://localhost:8080/"
        }
      },
      "execution_count": 11,
      "outputs": [
        {
          "output_type": "stream",
          "name": "stdout",
          "text": [
            "time: 442 µs (started: 2022-10-29 12:00:31 +00:00)\n"
          ]
        }
      ]
    },
    {
      "cell_type": "code",
      "source": [
        "# from google.colab import drive\n",
        "# drive.mount('/content/drive')"
      ],
      "metadata": {
        "id": "KA6WoCJNGPXK",
        "outputId": "75d45592-89fb-4f24-aeee-56e2c42661ed",
        "colab": {
          "base_uri": "https://localhost:8080/"
        }
      },
      "execution_count": 12,
      "outputs": [
        {
          "output_type": "stream",
          "name": "stdout",
          "text": [
            "time: 519 µs (started: 2022-10-29 12:00:31 +00:00)\n"
          ]
        }
      ]
    }
  ],
  "metadata": {
    "accelerator": "GPU",
    "colab": {
      "collapsed_sections": [],
      "provenance": [],
      "include_colab_link": true
    },
    "gpuClass": "standard",
    "kernelspec": {
      "display_name": "Python 3 (ipykernel)",
      "language": "python",
      "name": "python3"
    },
    "language_info": {
      "codemirror_mode": {
        "name": "ipython",
        "version": 3
      },
      "file_extension": ".py",
      "mimetype": "text/x-python",
      "name": "python",
      "nbconvert_exporter": "python",
      "pygments_lexer": "ipython3",
      "version": "3.9.9"
    }
  },
  "nbformat": 4,
  "nbformat_minor": 0
}